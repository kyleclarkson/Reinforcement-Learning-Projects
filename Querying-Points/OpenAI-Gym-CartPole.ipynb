{
 "cells": [
  {
   "cell_type": "markdown",
   "metadata": {},
   "source": [
    "# OpenAi Gym - CartPole-v0\n",
    "\n",
    "#### This notebook contains the application of reinforcement learning techniques to the classical CartPole problem where we attempt to learn how to control a one-dimensional cart to keep the cart's pole vertical. "
   ]
  },
  {
   "cell_type": "code",
   "execution_count": 26,
   "metadata": {},
   "outputs": [
    {
     "data": {
      "text/plain": [
       "array([ 0.03937349, -0.04702184,  0.00157794,  0.00272434])"
      ]
     },
     "execution_count": 26,
     "metadata": {},
     "output_type": "execute_result"
    }
   ],
   "source": [
    "# Import OpenAi gym and test the env.\n",
    "\n",
    "import gym\n",
    "env = gym.make('CartPole-v0')\n",
    "env.reset()\n",
    "\n",
    "# for episode in range(50):\n",
    "#     observation = env.reset()\n",
    "#     total_ep_reward = 0\n",
    "#     for tstep in range(100):\n",
    "#         env.render()\n",
    "#         # print(observation)\n",
    "#         # decide action to take (here - choose at random.)\n",
    "#         action = env.action_space.sample()\n",
    "#         # Move agent right.\n",
    "#         #action = 1\n",
    "#         # take action, receive reward and new state.\n",
    "#         observation, reward, done, info = env.step(action)\n",
    "#         total_ep_reward += reward\n",
    "#         if done:\n",
    "#             print(\"Finished after {} timesteps. Total reward averaged over timesteps: {}\", tstep+1, total_ep_reward/(tstep+1))\n",
    "#             break\n",
    "    \n",
    "# env.close()"
   ]
  },
  {
   "cell_type": "markdown",
   "metadata": {},
   "source": [
    "## Observations Of The Environment\n",
    "\n",
    "The step function returns 4 values to indicate the environment's responds:\n",
    "\n",
    "observation:object - A representation of the environment specific to the problem. For the CartPole problem this is angle of the pole there are 4 values: \"Cart Position\", \"Cart Velocity\", \"Pole Angle\", and \"Pole Velocity At Tip\".\n",
    "For other problems this can be a pixel data of a camera, board states, etc.\n",
    "\n",
    "reward:float - The reward value recieved for the previous action.\n",
    "\n",
    "done:boolean - A flag which is true if a terminal state is reached and it is time to reset the environment.\n",
    "\n",
    "info:dict - Diagnositc information used for debugging purposes, such as raw probabilities of state transitions."
   ]
  },
  {
   "cell_type": "markdown",
   "metadata": {},
   "source": [
    "## Observations for CartPole-v0\n",
    "\n",
    "Four observations of the environment:\n",
    "\n",
    "Type: Box(4):\n",
    "\n",
    "|Index|Observation|Min|Max|\n",
    "|---|---|---|---|\n",
    "|0|Cart Position|-4.8|4.8|\n",
    "|1|Cart Velocity |-Inf|Inf|\n",
    "|2|Pole Angle| -24 deg | 24 deg|\n",
    "|3|Pole Velocity At Tip|-Inf|Inf|\n",
    "\n",
    "## Actions for CartPole-v0\n",
    "\n",
    "Two actions (moving the cart left or right.) \n",
    "\n",
    "Type: Discrete(2)\n",
    "\n",
    "|Index|Action|\n",
    "|---|---|\n",
    "|0|Push cart left|\n",
    "|1|Push cart right|"
   ]
  },
  {
   "cell_type": "markdown",
   "metadata": {},
   "source": [
    "## TODO list:\n",
    "\n",
    "#### Create Discrete state representation:\n",
    "\n",
    "- For each of the 4 state observations we need to bin all possible values into a finite number of bins. To make the Q table we will use a 5D table (4 states, 1 action.)\n",
    "\n",
    "#### Maintain/Plot Episode metrics\n",
    "\n",
    "- Per each episode we will maintain the total recieved.\n",
    "- Every kth episode we will maintain an aggregate of the min, max, and average reward for this episode. \n",
    "- Once the episodes are node we will plot these rewards. \n",
    "\n",
    "#### Implement various learning algorithms:\n",
    "\n",
    "- Q learning.\n",
    "- SARSA.\n",
    "- Expected SARSA.\n",
    "- Double Q learning."
   ]
  },
  {
   "cell_type": "code",
   "execution_count": 35,
   "metadata": {},
   "outputs": [],
   "source": [
    "\"\"\"\n",
    "To handle that velocity is unbounded, we use a wrapper class provided by gym to discretize our observation space.\n",
    "\"\"\"\n",
    "\n",
    "class DiscreteObservationSpaceWrapper(gym.ObservationWrapper):\n",
    "    \n",
    "    def __init__(self, env, num_bins, low, high):\n",
    "        super().__init__(env)\n",
    "        \n",
    "        low = self.observation_space.low if low is None else low\n",
    "        high = self.observation_space.high if high is None else high\n",
    "        \n",
    "        self.num_bins = num_bins\n",
    "#         self.value_bins = [np.linspace(1, h, num_bins+1) for l, h in zip(low.flatten(), high.flatten())]\n",
    "        self.obs_space = Discrete(num_bins ** low.flatten().shape[0])"
   ]
  },
  {
   "cell_type": "code",
   "execution_count": 36,
   "metadata": {},
   "outputs": [
    {
     "ename": "NameError",
     "evalue": "name 'Discrete' is not defined",
     "output_type": "error",
     "traceback": [
      "\u001b[1;31m---------------------------------------------------------------------------\u001b[0m",
      "\u001b[1;31mNameError\u001b[0m                                 Traceback (most recent call last)",
      "\u001b[1;32m<ipython-input-36-d816728f62a5>\u001b[0m in \u001b[0;36m<module>\u001b[1;34m\u001b[0m\n\u001b[1;32m----> 1\u001b[1;33m \u001b[0menv\u001b[0m \u001b[1;33m=\u001b[0m \u001b[0mDiscreteObservationSpaceWrapper\u001b[0m\u001b[1;33m(\u001b[0m\u001b[0menv\u001b[0m\u001b[1;33m,\u001b[0m \u001b[0mnum_bins\u001b[0m\u001b[1;33m=\u001b[0m\u001b[1;36m10\u001b[0m\u001b[1;33m,\u001b[0m \u001b[0mlow\u001b[0m\u001b[1;33m=\u001b[0m\u001b[1;33m[\u001b[0m\u001b[1;33m-\u001b[0m\u001b[1;36m2.4\u001b[0m\u001b[1;33m,\u001b[0m\u001b[1;36m0\u001b[0m\u001b[1;33m,\u001b[0m\u001b[1;36m0\u001b[0m\u001b[1;33m,\u001b[0m\u001b[1;36m0\u001b[0m\u001b[1;33m]\u001b[0m\u001b[1;33m,\u001b[0m \u001b[0mhigh\u001b[0m\u001b[1;33m=\u001b[0m\u001b[1;33m[\u001b[0m\u001b[1;36m2.4\u001b[0m\u001b[1;33m,\u001b[0m\u001b[1;36m1\u001b[0m\u001b[1;33m,\u001b[0m\u001b[1;36m1\u001b[0m\u001b[1;33m,\u001b[0m\u001b[1;36m1\u001b[0m\u001b[1;33m]\u001b[0m\u001b[1;33m)\u001b[0m\u001b[1;33m\u001b[0m\u001b[1;33m\u001b[0m\u001b[0m\n\u001b[0m",
      "\u001b[1;32m<ipython-input-35-1fc9a5789d79>\u001b[0m in \u001b[0;36m__init__\u001b[1;34m(self, env, num_bins, low, high)\u001b[0m\n\u001b[0;32m     13\u001b[0m         \u001b[0mself\u001b[0m\u001b[1;33m.\u001b[0m\u001b[0mnum_bins\u001b[0m \u001b[1;33m=\u001b[0m \u001b[0mnum_bins\u001b[0m\u001b[1;33m\u001b[0m\u001b[1;33m\u001b[0m\u001b[0m\n\u001b[0;32m     14\u001b[0m \u001b[1;31m#         self.value_bins = [np.linspace(1, h, num_bins+1) for l, h in zip(low.flatten(), high.flatten())]\u001b[0m\u001b[1;33m\u001b[0m\u001b[1;33m\u001b[0m\u001b[1;33m\u001b[0m\u001b[0m\n\u001b[1;32m---> 15\u001b[1;33m         \u001b[0mself\u001b[0m\u001b[1;33m.\u001b[0m\u001b[0mobs_space\u001b[0m \u001b[1;33m=\u001b[0m \u001b[0mDiscrete\u001b[0m\u001b[1;33m(\u001b[0m\u001b[0mnum_bins\u001b[0m \u001b[1;33m**\u001b[0m \u001b[0mlow\u001b[0m\u001b[1;33m.\u001b[0m\u001b[0mflatten\u001b[0m\u001b[1;33m(\u001b[0m\u001b[1;33m)\u001b[0m\u001b[1;33m.\u001b[0m\u001b[0mshape\u001b[0m\u001b[1;33m[\u001b[0m\u001b[1;36m0\u001b[0m\u001b[1;33m]\u001b[0m\u001b[1;33m)\u001b[0m\u001b[1;33m\u001b[0m\u001b[1;33m\u001b[0m\u001b[0m\n\u001b[0m",
      "\u001b[1;31mNameError\u001b[0m: name 'Discrete' is not defined"
     ]
    }
   ],
   "source": [
    "env = DiscreteObservationSpaceWrapper(env, num_bins=10, low=[-2.4,0,0,0], high=[2.4,1,1,1])"
   ]
  },
  {
   "cell_type": "code",
   "execution_count": null,
   "metadata": {},
   "outputs": [],
   "source": []
  }
 ],
 "metadata": {
  "kernelspec": {
   "display_name": "Python 3",
   "language": "python",
   "name": "python3"
  },
  "language_info": {
   "codemirror_mode": {
    "name": "ipython",
    "version": 3
   },
   "file_extension": ".py",
   "mimetype": "text/x-python",
   "name": "python",
   "nbconvert_exporter": "python",
   "pygments_lexer": "ipython3",
   "version": "3.7.3"
  }
 },
 "nbformat": 4,
 "nbformat_minor": 2
}
