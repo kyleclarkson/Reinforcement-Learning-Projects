{
 "cells": [
  {
   "cell_type": "markdown",
   "metadata": {},
   "source": [
    "# OpenAi Gym - CartPole-v0\n",
    "\n",
    "#### This notebook contains the application of reinforcement learning techniques to the classical CartPole problem where we attempt to learn how to control a one-dimensional cart to keep the cart's pole vertical. "
   ]
  },
  {
   "cell_type": "code",
   "execution_count": 2,
   "metadata": {},
   "outputs": [
    {
     "data": {
      "text/plain": [
       "array([-0.03156187, -0.04518858,  0.01798824,  0.04523498])"
      ]
     },
     "execution_count": 2,
     "metadata": {},
     "output_type": "execute_result"
    }
   ],
   "source": [
    "# Import OpenAi gym and test the env.\n",
    "\n",
    "import gym\n",
    "import numpy as np\n",
    "\n",
    "env = gym.make('CartPole-v0')\n",
    "env.reset()\n",
    "\n",
    "# for episode in range(50):\n",
    "#     observation = env.reset()\n",
    "#     total_ep_reward = 0\n",
    "#     for tstep in range(100):\n",
    "#         env.render()\n",
    "#         # print(observation)\n",
    "#         # decide action to take (here - choose at random.)\n",
    "#         action = env.action_space.sample()\n",
    "#         # Move agent right.\n",
    "#         #action = 1\n",
    "#         # take action, receive reward and new state.\n",
    "#         observation, reward, done, info = env.step(action)\n",
    "#         total_ep_reward += reward\n",
    "#         if done:\n",
    "#             print(\"Finished after {} timesteps. Total reward averaged over timesteps: {}\", tstep+1, total_ep_reward/(tstep+1))\n",
    "#             break\n",
    "    \n",
    "# env.close()"
   ]
  },
  {
   "cell_type": "markdown",
   "metadata": {},
   "source": [
    "## Observations Of The Environment\n",
    "\n",
    "The step function returns 4 values to indicate the environment's responds:\n",
    "\n",
    "observation:object - A representation of the environment specific to the problem. For the CartPole problem this is angle of the pole there are 4 values: \"Cart Position\", \"Cart Velocity\", \"Pole Angle\", and \"Pole Velocity At Tip\".\n",
    "For other problems this can be a pixel data of a camera, board states, etc.\n",
    "\n",
    "reward:float - The reward value recieved for the previous action.\n",
    "\n",
    "done:boolean - A flag which is true if a terminal state is reached and it is time to reset the environment.\n",
    "\n",
    "info:dict - Diagnositc information used for debugging purposes, such as raw probabilities of state transitions."
   ]
  },
  {
   "cell_type": "markdown",
   "metadata": {},
   "source": [
    "## Observations for CartPole-v0\n",
    "\n",
    "Four observations of the environment:\n",
    "\n",
    "Type: Box(4):\n",
    "\n",
    "|Index|Observation|Min|Max|\n",
    "|---|---|---|---|\n",
    "|0|Cart Position|-4.8|4.8|\n",
    "|1|Cart Velocity |-Inf|Inf|\n",
    "|2|Pole Angle| -24 deg | 24 deg|\n",
    "|3|Pole Velocity At Tip|-Inf|Inf|\n",
    "\n",
    "## Actions for CartPole-v0\n",
    "\n",
    "Two actions (moving the cart left or right.) \n",
    "\n",
    "Type: Discrete(2)\n",
    "\n",
    "|Index|Action|\n",
    "|---|---|\n",
    "|0|Push cart left|\n",
    "|1|Push cart right|"
   ]
  },
  {
   "cell_type": "markdown",
   "metadata": {},
   "source": [
    "## TODO list:\n",
    "\n",
    "#### Create Discrete state representation:\n",
    "\n",
    "- For each of the 4 state observations we need to bin all possible values into a finite number of bins. To make the Q table we will use a 5D table (4 states, 1 action.)\n",
    "\n",
    "#### Maintain/Plot Episode metrics\n",
    "\n",
    "- Per each episode we will maintain the total recieved.\n",
    "- Every kth episode we will maintain an aggregate of the min, max, and average reward for this episode. \n",
    "- Once the episodes are node we will plot these rewards. \n",
    "\n",
    "#### Implement various learning algorithms:\n",
    "\n",
    "- Q learning.\n",
    "- SARSA.\n",
    "- Expected SARSA.\n",
    "- Double Q learning."
   ]
  },
  {
   "cell_type": "code",
   "execution_count": 6,
   "metadata": {},
   "outputs": [],
   "source": [
    "\"\"\"\n",
    "To handle that velocity is unbounded, we use a wrapper class \n",
    "that extends gym's Wrapper class to bin our observation space\n",
    "into discrete values.\n",
    "\"\"\"\n",
    "\n",
    "class DiscreteObservationSpaceWrapper(gym.ObservationWrapper):\n",
    "    \n",
    "    def __init__(self, env, num_bins, low=None, high=None):\n",
    "        super().__init__(env)\n",
    "        assert isinstance(env.observation_space, gym.spaces.Box)\n",
    "    \n",
    "        self.num_bins = num_bins\n",
    "        # For each observation, use linspace to split into equal sized bins.\n",
    "        self.value_bins = [np.linspace(lo, hi, num_bins) for lo, hi in zip(low, high)]\n",
    "        # The number of possible states using the number of bins. \n",
    "        self.observation_space.n = gym.spaces.Discrete(num_bins ** len(low))\n",
    "        \n",
    "    def observation(self, observation):\n",
    "        # Determine the bin index where each state is.\n",
    "        return [np.digitize([state_value], bins)[0] for state_value, bins in zip(observation, self.value_bins)]\n",
    "        "
   ]
  },
  {
   "cell_type": "code",
   "execution_count": 7,
   "metadata": {},
   "outputs": [],
   "source": [
    "env = DiscreteObservationSpaceWrapper(\n",
    "    env,\n",
    "    num_bins=10,\n",
    "    low=[-2.4, -2.0, -0.42, -3.5],\n",
    "    high=[2.4, 2.0, 0.42, 3.5])"
   ]
  },
  {
   "cell_type": "code",
   "execution_count": 10,
   "metadata": {},
   "outputs": [
    {
     "name": "stdout",
     "output_type": "stream",
     "text": [
      "[10, 10, 10, 10]\n",
      "Discrete(10000)\n",
      "[1, 1, 3, 1]\n",
      "Discrete(10000)\n",
      "2\n"
     ]
    }
   ],
   "source": [
    "print(env.observation([2.4, 2, 0.42, 3.5]))\n",
    "print(env.observation_space.n)\n",
    "print(env.observation([-2.4, -2, -0.2, -3.5]))\n",
    "print(env.observation_space.n)\n",
    "print(env.action_space.n)"
   ]
  },
  {
   "cell_type": "code",
   "execution_count": 46,
   "metadata": {},
   "outputs": [],
   "source": [
    "# Create Q Table\n",
    "Q = {}"
   ]
  },
  {
   "cell_type": "code",
   "execution_count": 52,
   "metadata": {},
   "outputs": [
    {
     "name": "stdout",
     "output_type": "stream",
     "text": [
      "[array([-2.4 , -1.92, -1.44, -0.96, -0.48,  0.  ,  0.48,  0.96,  1.44,\n",
      "        1.92,  2.4 ]), array([-2. , -1.6, -1.2, -0.8, -0.4,  0. ,  0.4,  0.8,  1.2,  1.6,  2. ]), array([-4.20000000e-01, -3.36000000e-01, -2.52000000e-01, -1.68000000e-01,\n",
      "       -8.40000000e-02, -5.55111512e-17,  8.40000000e-02,  1.68000000e-01,\n",
      "        2.52000000e-01,  3.36000000e-01,  4.20000000e-01]), array([-3.5, -2.8, -2.1, -1.4, -0.7,  0. ,  0.7,  1.4,  2.1,  2.8,  3.5])]\n"
     ]
    }
   ],
   "source": [
    "print(env.value_bins)\n"
   ]
  },
  {
   "cell_type": "code",
   "execution_count": 53,
   "metadata": {},
   "outputs": [
    {
     "name": "stdout",
     "output_type": "stream",
     "text": [
      "Discrete(10000)\n"
     ]
    }
   ],
   "source": [
    "print(env.obs_space)"
   ]
  },
  {
   "cell_type": "code",
   "execution_count": null,
   "metadata": {},
   "outputs": [],
   "source": []
  }
 ],
 "metadata": {
  "kernelspec": {
   "display_name": "Python 3",
   "language": "python",
   "name": "python3"
  },
  "language_info": {
   "codemirror_mode": {
    "name": "ipython",
    "version": 3
   },
   "file_extension": ".py",
   "mimetype": "text/x-python",
   "name": "python",
   "nbconvert_exporter": "python",
   "pygments_lexer": "ipython3",
   "version": "3.7.4"
  }
 },
 "nbformat": 4,
 "nbformat_minor": 2
}
