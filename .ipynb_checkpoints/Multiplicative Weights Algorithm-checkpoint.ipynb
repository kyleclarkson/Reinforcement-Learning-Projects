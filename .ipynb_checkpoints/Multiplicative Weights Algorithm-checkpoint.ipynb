{
 "cells": [
  {
   "cell_type": "markdown",
   "metadata": {},
   "source": [
    "# Online Decision Making - The Multiplicative Weights Algorithm\n",
    "\n"
   ]
  },
  {
   "cell_type": "markdown",
   "metadata": {},
   "source": [
    "An <b><i>online problem</i></b> is a problem where the input arrives in a piecewise fashion. \n",
    "This is in contrast to typical <b><i>offline problems</i></b> in which the input is available in its entirety.\n",
    "An <b><i>online algorithm (strategy) </i></b> is a means to solve an online algorithm. \n",
    "Each time a new piece of the input is given to the algorithm, a irrevocable <b><i>decision/action</i></b> can be preformed by the algorithm.\n",
    "\n",
    "Many offline problems have an online equivalent. Consider the scheduling of tasks to various machines to minimize the makespan (the longest time any machine will run.) \n",
    "Here, instead of all jobs (and the ammount of time needed to finish each job) beinging made available at the start of the assignment process, jobs arrive at in an online fashion.\n",
    "Other classic online problems are the ski rental problem and cow path's problem.\n",
    "<a href=\"https://en.wikipedia.org/wiki/Ski_rental_problem\">ski rental</a> and \n",
    "<a href=\"https://en.wikipedia.org/wiki/Linear_search_problem\">cow paths</a> problems.\n",
    "\n",
    "\n"
   ]
  },
  {
   "cell_type": "code",
   "execution_count": null,
   "metadata": {},
   "outputs": [],
   "source": [
    "\n",
    "\n",
    "\n",
    "\n"
   ]
  }
 ],
 "metadata": {
  "kernelspec": {
   "display_name": "Python 3",
   "language": "python",
   "name": "python3"
  },
  "language_info": {
   "codemirror_mode": {
    "name": "ipython",
    "version": 3
   },
   "file_extension": ".py",
   "mimetype": "text/x-python",
   "name": "python",
   "nbconvert_exporter": "python",
   "pygments_lexer": "ipython3",
   "version": "3.7.3"
  }
 },
 "nbformat": 4,
 "nbformat_minor": 2
}
