{
 "cells": [
  {
   "cell_type": "code",
   "execution_count": 3,
   "metadata": {},
   "outputs": [],
   "source": [
    "import gym\n",
    "import numpy as np\n",
    "import random \n"
   ]
  },
  {
   "cell_type": "code",
   "execution_count": 4,
   "metadata": {},
   "outputs": [],
   "source": [
    "env = gym.make(\"FrozenLake-v0\")"
   ]
  },
  {
   "cell_type": "code",
   "execution_count": 5,
   "metadata": {},
   "outputs": [],
   "source": [
    "action_space_size = env.action_space.n\n",
    "state_space_size = env.observation_space.n"
   ]
  },
  {
   "cell_type": "code",
   "execution_count": 6,
   "metadata": {},
   "outputs": [],
   "source": [
    "Q = np.zeros((state_space_size, action_space_size))"
   ]
  },
  {
   "cell_type": "code",
   "execution_count": 7,
   "metadata": {},
   "outputs": [],
   "source": [
    "# hyper params\n",
    "\n",
    "num_episodes = 100000\n",
    "max_steps_per_episode = 100\n",
    "learning_rate = 0.1\n",
    "discount_rate = 0.95\n",
    "\n",
    "exp_rate = 1\n",
    "max_exp_rate = 1 \n",
    "min_exp_rate = 0.01\n",
    "exp_decay_rate = 0.001"
   ]
  },
  {
   "cell_type": "code",
   "execution_count": 8,
   "metadata": {},
   "outputs": [],
   "source": [
    "rewards_all_episodes = []\n",
    "\n",
    "# Q Learning algo\n",
    "\n",
    "for ep in range(num_episodes):\n",
    "    state = env.reset()\n",
    "    \n",
    "    done = False\n",
    "    rewards_ep = 0\n",
    "    \n",
    "    for step in range(max_steps_per_episode):\n",
    "        \n",
    "        if random.uniform(0,1) > exp_rate:\n",
    "            action = np.argmax(Q[state, :])\n",
    "        else:\n",
    "            action = env.action_space.sample()\n",
    "            \n",
    "        new_state, reward, done, info = env.step(action)\n",
    "        \n",
    "        Q[state, action] = Q[state, action] * (1-learning_rate) + learning_rate \\\n",
    "                            * (reward + discount_rate * np.max(Q[new_state, :]))\n",
    "        state = new_state\n",
    "        rewards_ep += reward\n",
    "        \n",
    "        if done == True: \n",
    "            break\n",
    "            \n",
    "    # Decay exp rate\n",
    "    exp_rate = min_exp_rate + (max_exp_rate - min_exp_rate) * np.exp(-exp_decay_rate*ep)\n",
    "    rewards_all_episodes.append(rewards_ep)"
   ]
  },
  {
   "cell_type": "code",
   "execution_count": 9,
   "metadata": {},
   "outputs": [
    {
     "name": "stdout",
     "output_type": "stream",
     "text": [
      "1000 :  0.032\n",
      "2000 :  0.175\n",
      "3000 :  0.36100000000000004\n",
      "4000 :  0.503\n",
      "5000 :  0.5680000000000001\n",
      "6000 :  0.6120000000000001\n",
      "7000 :  0.6160000000000001\n",
      "8000 :  0.6510000000000001\n",
      "9000 :  0.5960000000000001\n",
      "10000 :  0.6170000000000001\n",
      "11000 :  0.6350000000000001\n",
      "12000 :  0.6340000000000001\n",
      "13000 :  0.6520000000000001\n",
      "14000 :  0.6420000000000001\n",
      "15000 :  0.6170000000000001\n",
      "16000 :  0.6180000000000001\n",
      "17000 :  0.6350000000000001\n",
      "18000 :  0.6400000000000001\n",
      "19000 :  0.6180000000000001\n",
      "20000 :  0.6390000000000001\n",
      "21000 :  0.6200000000000001\n",
      "22000 :  0.6730000000000002\n",
      "23000 :  0.6460000000000001\n",
      "24000 :  0.6290000000000001\n",
      "25000 :  0.6370000000000001\n",
      "26000 :  0.6370000000000001\n",
      "27000 :  0.6450000000000001\n",
      "28000 :  0.6200000000000001\n",
      "29000 :  0.6550000000000001\n",
      "30000 :  0.6310000000000001\n",
      "31000 :  0.5890000000000001\n",
      "32000 :  0.5650000000000001\n",
      "33000 :  0.6860000000000002\n",
      "34000 :  0.5790000000000001\n",
      "35000 :  0.5730000000000001\n",
      "36000 :  0.6590000000000001\n",
      "37000 :  0.6710000000000002\n",
      "38000 :  0.6670000000000001\n",
      "39000 :  0.6410000000000001\n",
      "40000 :  0.6350000000000001\n",
      "41000 :  0.6460000000000001\n",
      "42000 :  0.6170000000000001\n",
      "43000 :  0.5930000000000001\n",
      "44000 :  0.6240000000000001\n",
      "45000 :  0.6580000000000001\n",
      "46000 :  0.6210000000000001\n",
      "47000 :  0.6480000000000001\n",
      "48000 :  0.6590000000000001\n",
      "49000 :  0.5800000000000001\n",
      "50000 :  0.6630000000000001\n",
      "51000 :  0.6530000000000001\n",
      "52000 :  0.5980000000000001\n",
      "53000 :  0.6490000000000001\n",
      "54000 :  0.6430000000000001\n",
      "55000 :  0.6850000000000002\n",
      "56000 :  0.6290000000000001\n",
      "57000 :  0.5950000000000001\n",
      "58000 :  0.6820000000000002\n",
      "59000 :  0.6540000000000001\n",
      "60000 :  0.6450000000000001\n",
      "61000 :  0.6010000000000001\n",
      "62000 :  0.6320000000000001\n",
      "63000 :  0.6200000000000001\n",
      "64000 :  0.6380000000000001\n",
      "65000 :  0.6590000000000001\n",
      "66000 :  0.6440000000000001\n",
      "67000 :  0.6310000000000001\n",
      "68000 :  0.6600000000000001\n",
      "69000 :  0.6510000000000001\n",
      "70000 :  0.6210000000000001\n",
      "71000 :  0.6530000000000001\n",
      "72000 :  0.5800000000000001\n",
      "73000 :  0.6750000000000002\n",
      "74000 :  0.6440000000000001\n",
      "75000 :  0.6710000000000002\n",
      "76000 :  0.6530000000000001\n",
      "77000 :  0.6060000000000001\n",
      "78000 :  0.6550000000000001\n",
      "79000 :  0.6280000000000001\n",
      "80000 :  0.5990000000000001\n",
      "81000 :  0.6370000000000001\n",
      "82000 :  0.6520000000000001\n",
      "83000 :  0.6620000000000001\n",
      "84000 :  0.6250000000000001\n",
      "85000 :  0.5970000000000001\n",
      "86000 :  0.6250000000000001\n",
      "87000 :  0.5700000000000001\n",
      "88000 :  0.6280000000000001\n",
      "89000 :  0.6740000000000002\n",
      "90000 :  0.6310000000000001\n",
      "91000 :  0.6620000000000001\n",
      "92000 :  0.526\n",
      "93000 :  0.6730000000000002\n",
      "94000 :  0.6430000000000001\n",
      "95000 :  0.5900000000000001\n",
      "96000 :  0.6410000000000001\n",
      "97000 :  0.6570000000000001\n",
      "98000 :  0.6180000000000001\n",
      "99000 :  0.6190000000000001\n",
      "100000 :  0.539\n"
     ]
    }
   ],
   "source": [
    "\n",
    "rewards_per_thousand_eps = np.split(np.array(rewards_all_episodes), num_episodes /1000)\n",
    "count = 1000\n",
    "for r in rewards_per_thousand_eps:\n",
    "    print(count, \": \", str(np.sum(r/1000.0)))\n",
    "    count += 1000"
   ]
  },
  {
   "cell_type": "code",
   "execution_count": null,
   "metadata": {},
   "outputs": [],
   "source": []
  }
 ],
 "metadata": {
  "kernelspec": {
   "display_name": "Python 3",
   "language": "python",
   "name": "python3"
  },
  "language_info": {
   "codemirror_mode": {
    "name": "ipython",
    "version": 3
   },
   "file_extension": ".py",
   "mimetype": "text/x-python",
   "name": "python",
   "nbconvert_exporter": "python",
   "pygments_lexer": "ipython3",
   "version": "3.7.4"
  }
 },
 "nbformat": 4,
 "nbformat_minor": 2
}
